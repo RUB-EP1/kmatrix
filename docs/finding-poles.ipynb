{
 "cells": [
  {
   "cell_type": "markdown",
   "metadata": {},
   "source": [
    "---\n",
    "draft: true\n",
    "title: Finding pole positions\n",
    "---"
   ]
  },
  {
   "cell_type": "code",
   "execution_count": null,
   "metadata": {},
   "outputs": [],
   "source": [
    "# | code-fold: true\n",
    "# | code-summary: Import Python libraries\n",
    "from __future__ import annotations\n",
    "\n",
    "from typing import Any\n",
    "\n",
    "import matplotlib.pyplot as plt\n",
    "import numpy as np\n",
    "import sympy as sp\n",
    "from ampform.io import aslatex\n",
    "from ampform.kinematics.phasespace import Kallen\n",
    "from ampform.sympy import unevaluated\n",
    "from iminuit import Minuit\n",
    "from IPython.display import Math"
   ]
  },
  {
   "cell_type": "markdown",
   "metadata": {},
   "source": [
    "## Theory"
   ]
  },
  {
   "cell_type": "markdown",
   "metadata": {},
   "source": [
    "Define $T$ matrix via $K$-matrix:\n",
    "$$T(s) = \\left(\\mathbb{I} + i K(s) {\\rho_{cm}(s)}\\right)^{-1} K(s)$$\n",
    "For one channel and multiple resonances this gives:\\\n",
    "$$\\sum_\\mathrm{Res.}\\frac{{K(s)}}{i {K(s)} {{\\rho_{cm}(s)}} + 1}$$\n",
    "\n",
    "A resonance pole in the complex $s$ plane occurs when the denominator of $T(s)$ goes to zero:\n",
    "$$|T(s)| \\rightarrow \\infty \\quad \\Rightarrow \\quad \\left| \\frac{1}{1 - i K(s)} \\right|^2 \\rightarrow \\infty$$\n",
    "\n",
    "Finding the poles is equivalent to minimizing:\n",
    "\n",
    "$$\\left|1 - i K(s)\\right|^2 \\rightarrow 0$$\n",
    "\n",
    "to solve the problem numerically one can separate real and complex part of $s$ to construct a cost function which can be given to common minimizer: Minuit2\n",
    "Cost function:\n",
    "$$\\text{Cost}(x, y) = \\left|1 - i K(x + i y)\\right|^2$$\n",
    "using where $x$ and $y$ are minimization parameters."
   ]
  },
  {
   "cell_type": "markdown",
   "metadata": {},
   "source": [
    "## Symbolic implementation"
   ]
  },
  {
   "cell_type": "code",
   "execution_count": null,
   "metadata": {},
   "outputs": [],
   "source": [
    "@unevaluated(real=False)\n",
    "class PhaseSpaceFactor(sp.Expr):\n",
    "    s: Any\n",
    "    m1: Any\n",
    "    m2: Any\n",
    "    _latex_repr_ = R\"\\rho\\left({s}\\right)\"\n",
    "\n",
    "    def evaluate(self) -> sp.Expr:\n",
    "        s, m1, m2 = self.args\n",
    "        return -16 * sp.pi * sp.I * ChewMandelstam(s, m1, m2)\n",
    "\n",
    "\n",
    "@unevaluated(real=False)\n",
    "class ChewMandelstam(sp.Expr):\n",
    "    s: Any\n",
    "    m1: Any\n",
    "    m2: Any\n",
    "    _latex_repr_ = R\"\\Sigma\\left({s}\\right)\"\n",
    "\n",
    "    def evaluate(self) -> sp.Expr:\n",
    "        s, m1, m2 = self.args\n",
    "        q = BreakupMomentum(s, m1, m2)\n",
    "        return (\n",
    "            1\n",
    "            / (16 * sp.pi**2)\n",
    "            * (\n",
    "                (2 * q / sp.sqrt(s))\n",
    "                * sp.log((m1**2 + m2**2 - s + 2 * sp.sqrt(s) * q) / (2 * m1 * m2))\n",
    "                - (m1**2 - m2**2) * (1 / s - 1 / (m1 + m2) ** 2) * sp.log(m1 / m2)\n",
    "            )\n",
    "        )\n",
    "\n",
    "\n",
    "@unevaluated(real=False)\n",
    "class BreakupMomentum(sp.Expr):\n",
    "    s: Any\n",
    "    m1: Any\n",
    "    m2: Any\n",
    "    _latex_repr_ = R\"q\\left({s}\\right)\"\n",
    "\n",
    "    def evaluate(self) -> sp.Expr:\n",
    "        s, m1, m2 = self.args\n",
    "        return sp.sqrt(Kallen(s, m1**2, m2**2)) / (2 * sp.sqrt(s))"
   ]
  },
  {
   "cell_type": "code",
   "execution_count": null,
   "metadata": {},
   "outputs": [],
   "source": [
    "n = 1\n",
    "K = sp.MatrixSymbol(\"K\", n, n)\n",
    "rho = sp.MatrixSymbol(\"rho\", n, n)\n",
    "I = sp.Identity(n)"
   ]
  },
  {
   "cell_type": "code",
   "execution_count": null,
   "metadata": {},
   "outputs": [],
   "source": [
    "T1 = (I + sp.I * rho * K).inv() * K\n",
    "T1"
   ]
  },
  {
   "cell_type": "code",
   "execution_count": null,
   "metadata": {},
   "outputs": [],
   "source": [
    "T1.as_explicit()"
   ]
  },
  {
   "cell_type": "code",
   "execution_count": null,
   "metadata": {},
   "outputs": [],
   "source": [
    "s, g1, m1, g2, m2 = sp.symbols(\"s g1 m1 g2 m2\")\n",
    "ma, mb = sp.symbols(\"ma mb\")"
   ]
  },
  {
   "cell_type": "code",
   "execution_count": null,
   "metadata": {},
   "outputs": [],
   "source": [
    "substitutions = {\n",
    "    K[0, 0]: g1**2 / (m1**2 - s) + g2**2 / (m2**2 - s),\n",
    "    rho[0, 0]: PhaseSpaceFactor(s, ma, mb),\n",
    "}\n",
    "Math(aslatex(substitutions))"
   ]
  },
  {
   "cell_type": "code",
   "execution_count": null,
   "metadata": {},
   "outputs": [],
   "source": [
    "T1_expr = T1.as_explicit().subs(substitutions)[0].simplify(doit=False)\n",
    "T1_expr"
   ]
  },
  {
   "cell_type": "code",
   "execution_count": null,
   "metadata": {},
   "outputs": [],
   "source": [
    "rho = sp.MatrixSymbol(\"rho\", n, n)\n",
    "T2 = (T1.inv() + 2 * sp.I * rho).inv()"
   ]
  },
  {
   "cell_type": "code",
   "execution_count": null,
   "metadata": {},
   "outputs": [],
   "source": [
    "T2_expr = T2.as_explicit().subs(substitutions)[0].simplify(doit=False)\n",
    "T2_expr"
   ]
  },
  {
   "cell_type": "code",
   "execution_count": null,
   "metadata": {},
   "outputs": [],
   "source": [
    "numerator, denominator = sp.fraction(T1_expr)\n",
    "denominator"
   ]
  },
  {
   "cell_type": "code",
   "execution_count": null,
   "metadata": {},
   "outputs": [],
   "source": [
    "parameters = {\n",
    "    \"m1\": 1.8,\n",
    "    \"m2\": 1.1,\n",
    "    \"g1\": 0.5,\n",
    "    \"g2\": 0.7,\n",
    "    \"ma\": 0.1,\n",
    "    \"mb\": 0.2,\n",
    "}"
   ]
  },
  {
   "cell_type": "code",
   "execution_count": null,
   "metadata": {},
   "outputs": [],
   "source": [
    "T1_func = sp.lambdify(s, T1_expr.doit().subs(parameters))\n",
    "T2_func = sp.lambdify(s, T1_expr.doit().subs(parameters))"
   ]
  },
  {
   "cell_type": "code",
   "execution_count": null,
   "metadata": {},
   "outputs": [],
   "source": [
    "Denom_func = sp.lambdify(s, denominator.doit().subs(parameters))"
   ]
  },
  {
   "cell_type": "code",
   "execution_count": null,
   "metadata": {},
   "outputs": [],
   "source": [
    "x = np.linspace(0, 5, 500)\n",
    "y = T2_func(x + 1e-8j)\n",
    "plt.plot(x, np.abs(y))\n",
    "plt.show()"
   ]
  },
  {
   "cell_type": "code",
   "execution_count": null,
   "metadata": {},
   "outputs": [],
   "source": [
    "X, Y = np.meshgrid(\n",
    "    np.linspace(-1, 6, num=100),\n",
    "    np.linspace(1, -2, num=100),\n",
    ")\n",
    "S = X + 1j * Y\n",
    "Z = T2_func(S)\n",
    "mesh = plt.pcolormesh(X, Y, np.imag(Z), vmin=-1, vmax=1)\n",
    "plt.colorbar(mesh)\n",
    "plt.show()"
   ]
  },
  {
   "cell_type": "code",
   "execution_count": null,
   "metadata": {},
   "outputs": [],
   "source": [
    "X, Y = np.meshgrid(\n",
    "    np.linspace(0, 10, num=100),\n",
    "    np.linspace(0, 10, num=100),\n",
    ")\n",
    "S = X + 1j * Y\n",
    "Z = Denom_func(S)\n",
    "mesh = plt.pcolormesh(X, Y, np.abs(Z))\n",
    "plt.colorbar(mesh)\n",
    "plt.show()"
   ]
  },
  {
   "cell_type": "code",
   "execution_count": null,
   "metadata": {},
   "outputs": [],
   "source": [
    "sp.solve(sp.Eq(denominator.subs(parameters), 0), s)"
   ]
  },
  {
   "cell_type": "markdown",
   "metadata": {},
   "source": [
    "## Numeric implementation"
   ]
  },
  {
   "cell_type": "code",
   "execution_count": null,
   "metadata": {},
   "outputs": [],
   "source": [
    "resonances = [\n",
    "    {\"m0\": 0.8, \"g0\": 0.4, \"s_guess\": complex(-1, 1)},\n",
    "    {\"m0\": 1.0, \"g0\": 0.7, \"s_guess\": complex(-1, 1)},\n",
    "]"
   ]
  },
  {
   "cell_type": "code",
   "execution_count": null,
   "metadata": {},
   "outputs": [],
   "source": [
    "def rho_cm(s):\n",
    "    m1 = 0.5\n",
    "    m2 = 0.1\n",
    "    s = complex(s)\n",
    "    return np.sqrt((s - ((m1 + m2) ** 2)) * (s - (m1 - m2) ** 2) / s**2)"
   ]
  },
  {
   "cell_type": "code",
   "execution_count": null,
   "metadata": {},
   "outputs": [],
   "source": [
    "def denominator(s, m0, g0):\n",
    "    return s - m0**2 + 1j * g0**2 * rho_cm(s)\n",
    "\n",
    "\n",
    "def pole_cost_function(s_re, s_im, m0, g0):\n",
    "    s = complex(s_re, s_im)\n",
    "    d = denominator(s, m0, g0)\n",
    "    return d.real**2 + d.imag**2\n",
    "\n",
    "\n",
    "def fit_pole(m0, g0, s_guess):\n",
    "    def cost(s_re, s_im):\n",
    "        return pole_cost_function(s_re, s_im, m0, g0)\n",
    "\n",
    "    minuit2 = Minuit(cost, s_re=s_guess.real, s_im=s_guess.imag)\n",
    "    minuit2.errordef = Minuit.LEAST_SQUARES\n",
    "    return minuit2.migrad()"
   ]
  },
  {
   "cell_type": "code",
   "execution_count": null,
   "metadata": {},
   "outputs": [],
   "source": [
    "m0_res1, g0_res1 = resonances[0][\"m0\"], resonances[0][\"g0\"]\n",
    "s_guess_res1 = resonances[0][\"s_guess\"]\n",
    "fit_res1 = fit_pole(m0_res1, g0_res1, s_guess_res1)\n",
    "fit_res1"
   ]
  },
  {
   "cell_type": "code",
   "execution_count": null,
   "metadata": {},
   "outputs": [],
   "source": [
    "m0_res2, g0_res2 = resonances[1][\"m0\"], resonances[1][\"g0\"]\n",
    "s_guess_res2 = resonances[1][\"s_guess\"]\n",
    "fit_res2 = fit_pole(m0_res2, g0_res2, s_guess_res2)\n",
    "fit_res2"
   ]
  }
 ],
 "metadata": {
  "kernelspec": {
   "display_name": "Python 3 (ipykernel)",
   "language": "python",
   "name": "python3"
  },
  "language_info": {
   "codemirror_mode": {
    "name": "ipython",
    "version": 3
   },
   "file_extension": ".py",
   "mimetype": "text/x-python",
   "name": "python",
   "nbconvert_exporter": "python",
   "pygments_lexer": "ipython3",
   "version": "3.12.8"
  }
 },
 "nbformat": 4,
 "nbformat_minor": 4
}
