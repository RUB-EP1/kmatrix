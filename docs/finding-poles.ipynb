{
 "cells": [
  {
   "cell_type": "markdown",
   "metadata": {},
   "source": [
    "---\n",
    "draft: true\n",
    "title: Finding pole positions\n",
    "---"
   ]
  },
  {
   "cell_type": "code",
   "execution_count": null,
   "metadata": {},
   "outputs": [],
   "source": [
    "# | code-fold: true\n",
    "# | code-summary: Import Python libraries\n",
    "from __future__ import annotations\n",
    "\n",
    "from typing import Any\n",
    "\n",
    "import matplotlib.pyplot as plt\n",
    "import numpy as np\n",
    "import sympy as sp\n",
    "from ampform.io import aslatex\n",
    "from ampform.kinematics.phasespace import Kallen\n",
    "from ampform.sympy import unevaluated\n",
    "from iminuit import Minuit\n",
    "from IPython.display import Math"
   ]
  },
  {
   "cell_type": "code",
   "execution_count": null,
   "metadata": {},
   "outputs": [],
   "source": [
    "# | echo: false\n",
    "%config InlineBackend.figure_format = 'svg'"
   ]
  },
  {
   "cell_type": "markdown",
   "metadata": {},
   "source": [
    "## Symbolic implementation"
   ]
  },
  {
   "cell_type": "code",
   "execution_count": null,
   "metadata": {},
   "outputs": [],
   "source": [
    "# | code-fold: true\n",
    "# | code-summary: Definition of phase space factors\n",
    "@unevaluated(real=False)\n",
    "class PhaseSpaceFactor(sp.Expr):\n",
    "    s: Any\n",
    "    m1: Any\n",
    "    m2: Any\n",
    "    _latex_repr_ = R\"\\rho_{{{m1}, {m2}}}\\left({s}\\right)\"\n",
    "\n",
    "    def evaluate(self) -> sp.Expr:\n",
    "        s, m1, m2 = self.args\n",
    "        return sp.sqrt((s - ((m1 + m2) ** 2)) * (s - (m1 - m2) ** 2) / s**2)\n",
    "\n",
    "\n",
    "@unevaluated(real=False)\n",
    "class PhaseSpaceFactorCM(sp.Expr):\n",
    "    s: Any\n",
    "    m1: Any\n",
    "    m2: Any\n",
    "    _latex_repr_ = R\"\\rho^\\mathrm{{CM}}\\left({s}\\right)\"\n",
    "\n",
    "    def evaluate(self) -> sp.Expr:\n",
    "        s, m1, m2 = self.args\n",
    "        return -16 * sp.pi * sp.I * ChewMandelstam(s, m1, m2)\n",
    "\n",
    "\n",
    "@unevaluated(real=False)\n",
    "class ChewMandelstam(sp.Expr):\n",
    "    s: Any\n",
    "    m1: Any\n",
    "    m2: Any\n",
    "    _latex_repr_ = R\"\\Sigma\\left({s}\\right)\"\n",
    "\n",
    "    def evaluate(self) -> sp.Expr:\n",
    "        s, m1, m2 = self.args\n",
    "        q = BreakupMomentum(s, m1, m2)\n",
    "        return (\n",
    "            1\n",
    "            / (16 * sp.pi**2)\n",
    "            * (\n",
    "                (2 * q / sp.sqrt(s))\n",
    "                * sp.log((m1**2 + m2**2 - s + 2 * sp.sqrt(s) * q) / (2 * m1 * m2))\n",
    "                - (m1**2 - m2**2) * (1 / s - 1 / (m1 + m2) ** 2) * sp.log(m1 / m2)\n",
    "            )\n",
    "        )\n",
    "\n",
    "\n",
    "@unevaluated(real=False)\n",
    "class BreakupMomentum(sp.Expr):\n",
    "    s: Any\n",
    "    m1: Any\n",
    "    m2: Any\n",
    "    _latex_repr_ = R\"q\\left({s}\\right)\"\n",
    "\n",
    "    def evaluate(self) -> sp.Expr:\n",
    "        s, m1, m2 = self.args\n",
    "        return sp.sqrt(Kallen(s, m1**2, m2**2)) / (2 * sp.sqrt(s))\n",
    "\n",
    "\n",
    "class DiagonalMatrix(sp.DiagonalMatrix):\n",
    "    def _latex(self, printer, *args):  # noqa: ANN002, ARG002\n",
    "        return printer._print(self.args[0])  # noqa: SLF001"
   ]
  },
  {
   "cell_type": "markdown",
   "metadata": {},
   "source": [
    "## Plot phasespace factor"
   ]
  },
  {
   "cell_type": "code",
   "execution_count": null,
   "metadata": {},
   "outputs": [],
   "source": [
    "s, ma, mb = sp.symbols(\"s ma mb\")\n",
    "parameters = {\n",
    "    ma: 0.1,\n",
    "    mb: 0.2,\n",
    "}"
   ]
  },
  {
   "cell_type": "code",
   "execution_count": null,
   "metadata": {},
   "outputs": [],
   "source": [
    "irho_func = sp.lambdify(s, PhaseSpaceFactor(s, ma, mb).doit().subs(parameters))\n",
    "cm_func = sp.lambdify(s, ChewMandelstam(s, ma, mb).doit().subs(parameters))"
   ]
  },
  {
   "cell_type": "code",
   "execution_count": null,
   "metadata": {},
   "outputs": [],
   "source": [
    "x = np.linspace(0, 1, 100)\n",
    "epsilon = 1e-10j\n",
    "plt.plot(\n",
    "    x,\n",
    "    (1j * irho_func(x + epsilon)).real,\n",
    "    color=\"blue\",\n",
    "    label=r\"$\\rho(s) real$\",\n",
    "    alpha=0.5,\n",
    ")\n",
    "plt.plot(\n",
    "    x,\n",
    "    cm_func(x + epsilon).real,\n",
    "    color=\"red\",\n",
    "    label=r\"$\\rho^{CM}(s) real$\",\n",
    "    alpha=0.5,\n",
    ")\n",
    "plt.plot(\n",
    "    x,\n",
    "    (1j * irho_func(x + epsilon)).imag,\n",
    "    color=\"blue\",\n",
    "    linestyle=\"--\",\n",
    "    label=r\"$\\rho(s) imag$\",\n",
    ")\n",
    "plt.plot(\n",
    "    x,\n",
    "    cm_func(x + epsilon).imag,\n",
    "    color=\"red\",\n",
    "    linestyle=\"--\",\n",
    "    label=r\"$\\rho^{CM}(s) imag$\",\n",
    ")\n",
    "plt.ylim(0, 0.1)\n",
    "plt.legend()\n",
    "plt.show()"
   ]
  },
  {
   "cell_type": "markdown",
   "metadata": {},
   "source": [
    "# Construction of the two sheets of the $T$ matrix using a **single-channel** $K$ matrix:"
   ]
  },
  {
   "cell_type": "code",
   "execution_count": null,
   "metadata": {},
   "outputs": [],
   "source": [
    "n = 1\n",
    "K = sp.MatrixSymbol(\"K\", n, n)\n",
    "rho_cm = sp.MatrixSymbol(R\"\\rho^\\mathrm{CM}\", n, n)\n",
    "rho = sp.MatrixSymbol(\"rho\", n, n)\n",
    "I = sp.Identity(n)"
   ]
  },
  {
   "cell_type": "code",
   "execution_count": null,
   "metadata": {},
   "outputs": [],
   "source": [
    "T1 = (I - sp.I * rho_cm * K).inv() * K\n",
    "T1"
   ]
  },
  {
   "cell_type": "code",
   "execution_count": null,
   "metadata": {},
   "outputs": [],
   "source": [
    "T1.as_explicit()"
   ]
  },
  {
   "cell_type": "markdown",
   "metadata": {},
   "source": [
    "Definition of the second Riemann sheet via the discontinuity of the phasespace factor across the branch cut:\n",
    "$$ \n",
    "Disc_{\\mathrm{I-II}}=-2i\\rho\n",
    "$$\n",
    "$$\n",
    "\\rho = \\sqrt{\\frac{(s-(m_a-m_b)^2)(s-(m_a+m_b)^2)}{s^2}}\n",
    "$$"
   ]
  },
  {
   "cell_type": "code",
   "execution_count": null,
   "metadata": {},
   "outputs": [],
   "source": [
    "T2 = (T1.inv() - 2 * sp.I * rho).inv()\n",
    "T2"
   ]
  },
  {
   "cell_type": "markdown",
   "metadata": {},
   "source": [
    "We now parametrize the $K$ matrix with **two poles** and define the standard phase space factor (used for the discrepancy between the sheets), as well as a phase space factor that is defined with the Chew–Mandelstam function:"
   ]
  },
  {
   "cell_type": "code",
   "execution_count": null,
   "metadata": {},
   "outputs": [],
   "source": [
    "s, g1, m1, g2, m2 = sp.symbols(\"s g1 m1 g2 m2\")\n",
    "ma, mb = sp.symbols(\"m_a m_b\")"
   ]
  },
  {
   "cell_type": "code",
   "execution_count": null,
   "metadata": {},
   "outputs": [],
   "source": [
    "definitions = {\n",
    "    K[0, 0]: g1**2 / (m1**2 - s) + g2**2 / (m2**2 - s),\n",
    "    rho_cm[0, 0]: PhaseSpaceFactorCM(s, ma, mb),\n",
    "    rho[0, 0]: PhaseSpaceFactor(s, ma, mb),\n",
    "}\n",
    "Math(aslatex({k: v.doit(deep=False) for k, v in definitions.items()}))"
   ]
  },
  {
   "cell_type": "markdown",
   "metadata": {},
   "source": [
    "Definition of the I. sheet:  "
   ]
  },
  {
   "cell_type": "code",
   "execution_count": null,
   "metadata": {},
   "outputs": [],
   "source": [
    "T1_expr = T1.as_explicit().subs(definitions)[0].simplify(doit=False)\n",
    "T1_expr"
   ]
  },
  {
   "cell_type": "markdown",
   "metadata": {},
   "source": [
    "Definition of the II. sheet: "
   ]
  },
  {
   "cell_type": "code",
   "execution_count": null,
   "metadata": {},
   "outputs": [],
   "source": [
    "T2_expr = T2.as_explicit().subs(definitions)[0].simplify(doit=False)\n",
    "T2_expr"
   ]
  },
  {
   "cell_type": "markdown",
   "metadata": {},
   "source": [
    "For plotting the $T$ matrix, we need to define some parameter values."
   ]
  },
  {
   "cell_type": "code",
   "execution_count": null,
   "metadata": {},
   "outputs": [],
   "source": [
    "parameters = {\n",
    "    m1: 1.8,\n",
    "    m2: 1.1,\n",
    "    g1: 0.5,\n",
    "    g2: 0.7,\n",
    "    ma: 0.1,\n",
    "    mb: 0.2,\n",
    "}"
   ]
  },
  {
   "cell_type": "code",
   "execution_count": null,
   "metadata": {},
   "outputs": [],
   "source": [
    "T1_func = sp.lambdify(s, T1_expr.doit().subs(parameters))\n",
    "T2_func = sp.lambdify(s, T2_expr.doit().subs(parameters))"
   ]
  },
  {
   "cell_type": "markdown",
   "metadata": {},
   "source": [
    "Just below the real axis (below the cut), the square value of the unphysical sheet, $T_\\mathrm{II}(s-\\epsilon i)$, looks like this:"
   ]
  },
  {
   "cell_type": "code",
   "execution_count": null,
   "metadata": {},
   "outputs": [],
   "source": [
    "# | code-fold: true\n",
    "x = np.linspace(0.1, 6, 500)\n",
    "z = T2_func(x - 1e-8j)\n",
    "plt.plot(x, np.abs(z) ** 2)\n",
    "plt.xlabel(\"s\")\n",
    "plt.ylabel(R\"$|T(s)|^2$\")\n",
    "plt.yticks([])\n",
    "plt.ylim(0, None)\n",
    "plt.show()"
   ]
  },
  {
   "cell_type": "markdown",
   "metadata": {},
   "source": [
    "The two sheets are nicely connected along the real axis and two poles are located below the cut."
   ]
  },
  {
   "cell_type": "code",
   "execution_count": null,
   "metadata": {},
   "outputs": [],
   "source": [
    "# | code-fold: true\n",
    "X, Y = np.meshgrid(\n",
    "    np.linspace(0, 6, num=500),\n",
    "    np.linspace(1e-8, 2, num=500),\n",
    ")\n",
    "S = X + 1j * Y\n",
    "style = dict(rasterized=True, vmin=-1, vmax=1)\n",
    "plt.pcolormesh(X, +Y, T1_func(S).imag, **style)\n",
    "plt.pcolormesh(X, -Y, T2_func(S.conj()).imag, **style)\n",
    "plt.xlabel(\"Re(s)\")\n",
    "plt.ylabel(\"Im(s)\")\n",
    "plt.colorbar()\n",
    "plt.show()"
   ]
  },
  {
   "cell_type": "markdown",
   "metadata": {},
   "source": [
    "## Find pole positions"
   ]
  },
  {
   "cell_type": "markdown",
   "metadata": {},
   "source": [
    "The pole positions are at the point where the denominator of the unphysical sheet $T_\\mathrm{II}$ goes to zero."
   ]
  },
  {
   "cell_type": "code",
   "execution_count": null,
   "metadata": {},
   "outputs": [],
   "source": [
    "numerator, denominator = sp.fraction(T2_expr)\n",
    "denominator"
   ]
  },
  {
   "cell_type": "code",
   "execution_count": null,
   "metadata": {},
   "outputs": [],
   "source": [
    "denom_func = sp.lambdify(s, denominator.doit().subs(parameters))"
   ]
  },
  {
   "cell_type": "code",
   "execution_count": null,
   "metadata": {},
   "outputs": [],
   "source": [
    "# | code-fold: true\n",
    "plt.pcolormesh(X, -Y, np.abs(denom_func(S.conj())), rasterized=True, vmin=0, vmax=3)\n",
    "plt.colorbar()\n",
    "plt.xlabel(\"Re(s)\")\n",
    "plt.ylabel(\"Im(s)\")\n",
    "plt.show()"
   ]
  },
  {
   "cell_type": "markdown",
   "metadata": {},
   "source": [
    "We can find these points by minimizing the absolute value of the denominator of $T_\\mathrm{II}$ using gradient-descent."
   ]
  },
  {
   "cell_type": "code",
   "execution_count": null,
   "metadata": {},
   "outputs": [],
   "source": [
    "s_guess1 = 1.8 - 0.26j\n",
    "s_guess2 = 3.7 - 0.47j"
   ]
  },
  {
   "cell_type": "code",
   "execution_count": null,
   "metadata": {},
   "outputs": [],
   "source": [
    "def fit_pole(s_guess: complex) -> Minuit:\n",
    "    minuit2 = Minuit(cost_function, s_guess.real, s_guess.imag)\n",
    "    minuit2.tol = 0.001\n",
    "    return minuit2.migrad()\n",
    "\n",
    "\n",
    "def cost_function(s_real: float, s_imag: float):\n",
    "    s = s_real + s_imag * 1j\n",
    "    return np.abs(denom_func(s)) ** 2"
   ]
  },
  {
   "cell_type": "markdown",
   "metadata": {},
   "source": [
    "Position of pole 1: "
   ]
  },
  {
   "cell_type": "code",
   "execution_count": null,
   "metadata": {},
   "outputs": [],
   "source": [
    "fit_pole1 = fit_pole(s_guess1)\n",
    "pole1 = complex(*fit_pole1.values)\n",
    "pole1"
   ]
  },
  {
   "cell_type": "markdown",
   "metadata": {
    "vscode": {
     "languageId": "bat"
    }
   },
   "source": [
    "Position of pole 2:"
   ]
  },
  {
   "cell_type": "code",
   "execution_count": null,
   "metadata": {},
   "outputs": [],
   "source": [
    "fit_pole2 = fit_pole(s_guess2)\n",
    "pole2 = complex(*fit_pole2.values)\n",
    "pole2"
   ]
  },
  {
   "cell_type": "markdown",
   "metadata": {},
   "source": [
    "Plot pole positions:"
   ]
  },
  {
   "cell_type": "code",
   "execution_count": null,
   "metadata": {},
   "outputs": [],
   "source": [
    "# | code-fold: true\n",
    "plt.pcolormesh(X, +Y, T1_func(S).imag, **style)\n",
    "plt.pcolormesh(X, -Y, T2_func(S.conj()).imag, **style)\n",
    "plt.plot(pole1.real, pole1.imag, \"rx\", markersize=10)\n",
    "plt.plot(pole2.real, pole2.imag, \"rx\", markersize=10)\n",
    "plt.xlabel(\"Re(s)\")\n",
    "plt.ylabel(\"Im(s)\")\n",
    "plt.colorbar()\n",
    "plt.show()"
   ]
  },
  {
   "cell_type": "markdown",
   "metadata": {},
   "source": [
    "## Compute residues"
   ]
  },
  {
   "cell_type": "markdown",
   "metadata": {},
   "source": [
    "Residues can be computed with a closed integral around the pole. Numerically, we can compute this by evaluating $T_\\mathrm{II}$ at $N$ points around the pole and using the trapezoidal rule. It can be simplified to:\n",
    "$$\n",
    "\\begin{align}\n",
    "\\mathrm{Res}(T, z_0)\n",
    "    &= \\frac{1}{2\\pi i} \\oint T(z) \\, dz \\\\\n",
    "    &= \\frac{1}{2\\pi i} \\int_{-\\pi}^{+\\pi} T(z) \\; \\underbrace{i r e^{i\\phi}}_{dz/d\\phi} \\; d\\phi\n",
    "    \\quad \\text{with} \\quad z = z_0 + r e^{i\\phi} \\\\\n",
    "    &= \\frac{r}{2\\pi} \\int_{-\\pi}^{+\\pi} T(z) \\, e^{i\\phi} \\, d\\phi \\\\\n",
    "    &= \\frac{r}{2\\pi} \\left(\\frac{2\\pi}{N}\\sum_{i=1}^N T(z_i) \\, e^{i\\phi_i}\\right) \\\\\n",
    "    &= \\frac{r}{N} \\sum_{i=1}^N T(z_i) \\, e^{i\\phi_i} \\,.\n",
    "\\end{align}\n",
    "$$"
   ]
  },
  {
   "cell_type": "markdown",
   "metadata": {},
   "source": [
    "Define residue computation:"
   ]
  },
  {
   "cell_type": "code",
   "execution_count": null,
   "metadata": {},
   "outputs": [],
   "source": [
    "def compute_residue(f, z0, radius=1e-3, n_points=1_000):\n",
    "    phi = np.linspace(-np.pi, np.pi, n_points, endpoint=False)\n",
    "    z = z0 + radius * np.exp(1j * phi)\n",
    "    return radius / n_points * np.sum(f(z) * np.exp(1j * phi))"
   ]
  },
  {
   "cell_type": "markdown",
   "metadata": {},
   "source": [
    "Residue of pole 1:"
   ]
  },
  {
   "cell_type": "code",
   "execution_count": null,
   "metadata": {},
   "outputs": [],
   "source": [
    "residue1 = compute_residue(T2_func, pole1)\n",
    "residue1.round(3)"
   ]
  },
  {
   "cell_type": "markdown",
   "metadata": {},
   "source": [
    "Residue of pole2:"
   ]
  },
  {
   "cell_type": "code",
   "execution_count": null,
   "metadata": {},
   "outputs": [],
   "source": [
    "residue2 = compute_residue(T2_func, pole2)\n",
    "residue2.round(3)"
   ]
  },
  {
   "cell_type": "markdown",
   "metadata": {},
   "source": [
    "The residue approximates the coupling of the poles as if they were to be considered as a single pole in a in a Breit-Wigner parameterization.\n",
    "$$T\\approx \\frac{-{Res}}{s_{\\mathrm{pole}}-s} \\Rightarrow g_{\\mathrm{p\n",
    "ole}}\\approx \\sqrt{{Res}}  $$ "
   ]
  },
  {
   "cell_type": "markdown",
   "metadata": {},
   "source": [
    "Define pole couplings:"
   ]
  },
  {
   "cell_type": "code",
   "execution_count": null,
   "metadata": {},
   "outputs": [],
   "source": [
    "g_pole1 = np.sqrt(residue1)\n",
    "g_pole2 = np.sqrt(residue2)"
   ]
  },
  {
   "cell_type": "markdown",
   "metadata": {},
   "source": [
    "Define Breit-Wigner function for the poles:"
   ]
  },
  {
   "cell_type": "code",
   "execution_count": null,
   "metadata": {},
   "outputs": [],
   "source": [
    "def bw_func_pole(s, g, s_pole):\n",
    "    return g**2 / (s_pole - s)"
   ]
  },
  {
   "cell_type": "markdown",
   "metadata": {},
   "source": [
    "Plot line shape of the pole Breit-Wigner functions and the $T$ function :"
   ]
  },
  {
   "cell_type": "code",
   "execution_count": null,
   "metadata": {},
   "outputs": [],
   "source": [
    "x = np.linspace(0.1, 6, 500)\n",
    "z = T2_func(x - 1e-8j)\n",
    "z_pole1 = bw_func_pole(x, g_pole1, pole1)\n",
    "z_pole2 = bw_func_pole(x, g_pole2, pole2)\n",
    "plt.plot(x, np.abs(z) ** 2, label=\"T\")\n",
    "plt.plot(x, np.abs(z_pole1) ** 2, label=R\"$BW_\\mathrm{Pole1}$\")\n",
    "plt.plot(x, np.abs(z_pole2) ** 2, label=R\"$BW_\\mathrm{Pole2}$\")\n",
    "plt.plot(\n",
    "    x,\n",
    "    np.abs(z_pole1 + z_pole2) ** 2,\n",
    "    label=R\"$BW_\\mathrm{Pole1}+BW_\\mathrm{Pole2}$\",\n",
    ")\n",
    "plt.xlabel(\"s\")\n",
    "plt.ylabel(R\"$|BW_\\mathrm{Pole}(s)|^2$\")\n",
    "plt.yticks([])\n",
    "plt.ylim(0, None)\n",
    "plt.legend()\n",
    "plt.show()"
   ]
  },
  {
   "cell_type": "markdown",
   "metadata": {},
   "source": [
    "As a sanity check, we can verify whether $\\lim\\limits_{z \\to z_0} T(z) = \\frac{\\mathrm{Res}(T, z_0)}{z - z_0}$, for instance by ploting $T(z)$ over $z=z_0+re^{i\\phi}$ with $\\phi \\in [-\\pi, +\\pi]$."
   ]
  },
  {
   "cell_type": "code",
   "execution_count": null,
   "metadata": {},
   "outputs": [],
   "source": [
    "# | code-fold: true\n",
    "phi = np.linspace(-np.pi, np.pi, num=1000)\n",
    "r = 0.1\n",
    "z = pole1 + r * np.exp(1j * phi)\n",
    "plt.plot(phi, T2_func(z).imag, ls=\"--\")\n",
    "plt.plot(phi, (residue1 / (z - pole1)).imag, ls=\"--\")\n",
    "plt.xlabel(R\"$\\phi$\")\n",
    "plt.ylabel(R\"$\\mathrm{Im}\\,T(z)$\")\n",
    "plt.show()"
   ]
  }
 ],
 "metadata": {
  "kernelspec": {
   "display_name": "Python 3 (ipykernel)",
   "language": "python",
   "name": "python3"
  },
  "language_info": {
   "codemirror_mode": {
    "name": "ipython",
    "version": 3
   },
   "file_extension": ".py",
   "mimetype": "text/x-python",
   "name": "python",
   "nbconvert_exporter": "python",
   "pygments_lexer": "ipython3",
   "version": "3.12.8"
  }
 },
 "nbformat": 4,
 "nbformat_minor": 4
}
