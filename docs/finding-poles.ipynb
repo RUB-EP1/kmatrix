{
 "cells": [
  {
   "cell_type": "markdown",
   "metadata": {},
   "source": [
    "---\n",
    "draft: true\n",
    "title: Finding pole positions\n",
    "---"
   ]
  },
  {
   "cell_type": "code",
   "execution_count": null,
   "metadata": {},
   "outputs": [],
   "source": [
    "import numpy as np\n",
    "from iminuit import Minuit"
   ]
  },
  {
   "cell_type": "code",
   "execution_count": null,
   "metadata": {},
   "outputs": [],
   "source": [
    "resonances = [\n",
    "    {\"m0\": 0.8, \"g0\": 0.4, \"s_guess\": complex(-1, 1)},\n",
    "    {\"m0\": 1.0, \"g0\": 0.7, \"s_guess\": complex(-1, 1)},\n",
    "]"
   ]
  },
  {
   "cell_type": "code",
   "execution_count": null,
   "metadata": {},
   "outputs": [],
   "source": [
    "def rho_cm(s):\n",
    "    m1 = 0.5\n",
    "    m2 = 0.1\n",
    "    s = complex(s)\n",
    "    return np.sqrt((s - ((m1 + m2) ** 2)) * (s - (m1 - m2) ** 2) / s**2)"
   ]
  },
  {
   "cell_type": "markdown",
   "metadata": {},
   "source": [
    "## Define $T$ matrix"
   ]
  },
  {
   "cell_type": "markdown",
   "metadata": {},
   "source": [
    "Define $T$ matrix via $K$-matrix:\n",
    "$$T(s) = \\left(\\mathbb{I} + i K(s) {\\rho_{cm}(s)}\\right)^{-1} K(s)$$\n",
    "For one channel and multiple resonances this gives:\\\n",
    "$$\\sum_\\mathrm{Res.}\\frac{{K(s)}}{i {K(s)} {{\\rho_{cm}(s)}} + 1}$$\n",
    "\n",
    "A resonance pole in the complex $s$ plane occurs when the denominator of $T(s)$ goes to zero:\n",
    "$$|T(s)| \\rightarrow \\infty \\quad \\Rightarrow \\quad \\left| \\frac{1}{1 - i K(s)} \\right|^2 \\rightarrow \\infty$$\n",
    "\n",
    "Finding the poles is equivalent to minimizing:\n",
    "\n",
    "$$\\left|1 - i K(s)\\right|^2 \\rightarrow 0$$\n",
    "\n",
    "to solve the problem numerically one can separate real and complex part of $s$ to construct a cost function which can be given to common minimizer: Minuit2\n",
    "Cost function:\n",
    "$$\\text{Cost}(x, y) = \\left|1 - i K(x + i y)\\right|^2$$\n",
    "using where $x$ and $y$ are minimization parameters."
   ]
  },
  {
   "cell_type": "code",
   "execution_count": null,
   "metadata": {},
   "outputs": [],
   "source": [
    "def denominator(s, m0, g0):\n",
    "    return s - m0**2 + 1j * g0**2 * rho_cm(s)\n",
    "\n",
    "\n",
    "def pole_cost_function(s_re, s_im, m0, g0):\n",
    "    s = complex(s_re, s_im)\n",
    "    d = denominator(s, m0, g0)\n",
    "    return d.real**2 + d.imag**2\n",
    "\n",
    "\n",
    "def fit_pole(m0, g0, s_guess):\n",
    "    def cost(s_re, s_im):\n",
    "        return pole_cost_function(s_re, s_im, m0, g0)\n",
    "\n",
    "    minuit2 = Minuit(cost, s_re=s_guess.real, s_im=s_guess.imag)\n",
    "    minuit2.errordef = Minuit.LEAST_SQUARES\n",
    "    return minuit2.migrad()"
   ]
  },
  {
   "cell_type": "code",
   "execution_count": null,
   "metadata": {},
   "outputs": [],
   "source": [
    "m0_res1, g0_res1 = resonances[0][\"m0\"], resonances[0][\"g0\"]\n",
    "s_guess_res1 = resonances[0][\"s_guess\"]\n",
    "fit_res1 = fit_pole(m0_res1, g0_res1, s_guess_res1)\n",
    "fit_res1"
   ]
  },
  {
   "cell_type": "code",
   "execution_count": null,
   "metadata": {},
   "outputs": [],
   "source": [
    "m0_res2, g0_res2 = resonances[1][\"m0\"], resonances[1][\"g0\"]\n",
    "s_guess_res2 = resonances[1][\"s_guess\"]\n",
    "fit_res2 = fit_pole(m0_res2, g0_res2, s_guess_res2)\n",
    "fit_res2"
   ]
  }
 ],
 "metadata": {
  "kernelspec": {
   "display_name": "Python 3 (ipykernel)",
   "language": "python",
   "name": "python3"
  },
  "language_info": {
   "codemirror_mode": {
    "name": "ipython",
    "version": 3
   },
   "file_extension": ".py",
   "mimetype": "text/x-python",
   "name": "python",
   "nbconvert_exporter": "python",
   "pygments_lexer": "ipython3",
   "version": "3.12.9"
  }
 },
 "nbformat": 4,
 "nbformat_minor": 4
}
