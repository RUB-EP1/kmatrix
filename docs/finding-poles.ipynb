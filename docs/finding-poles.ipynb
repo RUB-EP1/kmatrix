{
 "cells": [
  {
   "cell_type": "markdown",
   "metadata": {},
   "source": [
    "---\n",
    "draft: true\n",
    "title: Finding pole positions\n",
    "---"
   ]
  },
  {
   "cell_type": "code",
   "execution_count": null,
   "metadata": {},
   "outputs": [],
   "source": [
    "from __future__ import annotations\n",
    "\n",
    "import matplotlib.pyplot as plt\n",
    "import numpy as np\n",
    "import sympy as sp\n",
    "from ampform.io import aslatex\n",
    "from IPython.display import Math"
   ]
  },
  {
   "cell_type": "code",
   "execution_count": null,
   "metadata": {},
   "outputs": [],
   "source": [
    "n = 1\n",
    "K = sp.MatrixSymbol(\"K\", n, n)\n",
    "rho = sp.MatrixSymbol(\"rho\", n, n)\n",
    "I = sp.Identity(n)"
   ]
  },
  {
   "cell_type": "code",
   "execution_count": null,
   "metadata": {},
   "outputs": [],
   "source": [
    "T = (I + sp.I * rho * K).inv() * K\n",
    "T"
   ]
  },
  {
   "cell_type": "code",
   "execution_count": null,
   "metadata": {},
   "outputs": [],
   "source": [
    "T.as_explicit()"
   ]
  },
  {
   "cell_type": "code",
   "execution_count": null,
   "metadata": {},
   "outputs": [],
   "source": [
    "s, g1, m1, g2, m2 = sp.symbols(\"s g1 m1 g2 m2\")\n",
    "ma, mb = sp.symbols(\"ma mb\")"
   ]
  },
  {
   "cell_type": "code",
   "execution_count": null,
   "metadata": {},
   "outputs": [],
   "source": [
    "substitutions = {\n",
    "    K[0, 0]: g1**2 / (m1**2 - s) + g2**2 / (m2**2 - s),\n",
    "    rho[0, 0]: sp.sqrt((s - ((m1 + m2) ** 2)) * (s - (m1 - m2) ** 2)) / s,\n",
    "}\n",
    "Math(aslatex(substitutions))"
   ]
  },
  {
   "cell_type": "code",
   "execution_count": null,
   "metadata": {},
   "outputs": [],
   "source": [
    "T_expr = T.as_explicit().subs(substitutions)[0].simplify()\n",
    "T_expr"
   ]
  },
  {
   "cell_type": "code",
   "execution_count": null,
   "metadata": {},
   "outputs": [],
   "source": [
    "numerator, denominator = sp.fraction(T_expr)\n",
    "denominator"
   ]
  },
  {
   "cell_type": "code",
   "execution_count": null,
   "metadata": {},
   "outputs": [],
   "source": [
    "parameters = {\n",
    "    \"m1\": 1.8,\n",
    "    \"m2\": 1.1,\n",
    "    \"g1\": 0.5,\n",
    "    \"g2\": 0.7,\n",
    "    \"ma\": 0,\n",
    "    \"mb\": 0,\n",
    "}"
   ]
  },
  {
   "cell_type": "code",
   "execution_count": null,
   "metadata": {},
   "outputs": [],
   "source": [
    "T_func = sp.lambdify(s, T_expr.subs(parameters))"
   ]
  },
  {
   "cell_type": "code",
   "execution_count": null,
   "metadata": {},
   "outputs": [],
   "source": [
    "Denom_func = sp.lambdify(s, denominator.subs(parameters))"
   ]
  },
  {
   "cell_type": "code",
   "execution_count": null,
   "metadata": {},
   "outputs": [],
   "source": [
    "x = np.linspace(0, 5, 500)\n",
    "y = T_func(x - 1e-8j)\n",
    "plt.plot(x, np.abs(y))\n",
    "plt.show()"
   ]
  },
  {
   "cell_type": "code",
   "execution_count": null,
   "metadata": {},
   "outputs": [],
   "source": [
    "X, Y = np.meshgrid(\n",
    "    np.linspace(-1, 6, num=100),\n",
    "    np.linspace(1, -2, num=100),\n",
    ")\n",
    "S = X + 1j * Y\n",
    "Z = T_func(S)\n",
    "mesh = plt.pcolormesh(X, Y, np.imag(Z), vmin=-1, vmax=1)\n",
    "plt.colorbar(mesh)\n",
    "plt.show()"
   ]
  },
  {
   "cell_type": "code",
   "execution_count": null,
   "metadata": {},
   "outputs": [],
   "source": [
    "X, Y = np.meshgrid(\n",
    "    np.linspace(0, 10, num=100),\n",
    "    np.linspace(0, 10, num=100),\n",
    ")\n",
    "S = X + 1j * Y\n",
    "Z = Denom_func(S)\n",
    "mesh = plt.pcolormesh(X, Y, np.abs(Z))\n",
    "plt.colorbar(mesh)\n",
    "plt.show()"
   ]
  },
  {
   "cell_type": "code",
   "execution_count": null,
   "metadata": {},
   "outputs": [],
   "source": [
    "sp.solve(sp.Eq(denominator.subs(parameters), 0), s)"
   ]
  }
 ],
 "metadata": {
  "kernelspec": {
   "display_name": "Python 3 (ipykernel)",
   "language": "python",
   "name": "python3"
  },
  "language_info": {
   "codemirror_mode": {
    "name": "ipython",
    "version": 3
   },
   "file_extension": ".py",
   "mimetype": "text/x-python",
   "name": "python",
   "nbconvert_exporter": "python",
   "pygments_lexer": "ipython3",
   "version": "3.12.8"
  }
 },
 "nbformat": 4,
 "nbformat_minor": 4
}
