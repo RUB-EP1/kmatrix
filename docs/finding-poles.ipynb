{
 "cells": [
  {
   "cell_type": "markdown",
   "metadata": {},
   "source": [
    "---\n",
    "draft: true\n",
    "title: Finding pole positions\n",
    "---"
   ]
  },
  {
   "cell_type": "code",
   "execution_count": null,
   "metadata": {},
   "outputs": [],
   "source": [
    "# | code-fold: true\n",
    "# | code-summary: Import Python libraries\n",
    "from __future__ import annotations\n",
    "\n",
    "from typing import Any\n",
    "\n",
    "import matplotlib.pyplot as plt\n",
    "import numpy as np\n",
    "import sympy as sp\n",
    "from ampform.io import aslatex\n",
    "from ampform.kinematics.phasespace import Kallen\n",
    "from ampform.sympy import unevaluated\n",
    "from iminuit import Minuit\n",
    "from IPython.display import Math"
   ]
  },
  {
   "cell_type": "code",
   "execution_count": null,
   "metadata": {},
   "outputs": [],
   "source": [
    "# | echo: false\n",
    "%config InlineBackend.figure_format = 'svg'"
   ]
  },
  {
   "cell_type": "markdown",
   "metadata": {},
   "source": [
    "## Theory"
   ]
  },
  {
   "cell_type": "markdown",
   "metadata": {},
   "source": [
    "Define $T$ matrix via $K$-matrix:\n",
    "$$T(s) = \\left(\\mathbb{I} + i K(s) {\\rho_{cm}(s)}\\right)^{-1} K(s)$$\n",
    "For one channel and multiple resonances this gives:\\\n",
    "$$\\sum_\\mathrm{Res.}\\frac{{K(s)}}{i {K(s)} {{\\rho_{cm}(s)}} + 1}$$\n",
    "\n",
    "A resonance pole in the complex $s$ plane occurs when the denominator of $T(s)$ goes to zero:\n",
    "$$|T(s)| \\rightarrow \\infty \\quad \\Rightarrow \\quad \\left| \\frac{1}{1 - i K(s)} \\right|^2 \\rightarrow \\infty$$\n",
    "\n",
    "Finding the poles is equivalent to minimizing:\n",
    "\n",
    "$$\\left|1 - i K(s)\\right|^2 \\rightarrow 0$$\n",
    "\n",
    "to solve the problem numerically one can separate real and complex part of $s$ to construct a cost function which can be given to common minimizer: Minuit2\n",
    "Cost function:\n",
    "$$\\text{Cost}(x, y) = \\left|1 - i K(x + i y)\\right|^2$$\n",
    "using where $x$ and $y$ are minimization parameters."
   ]
  },
  {
   "cell_type": "markdown",
   "metadata": {},
   "source": [
    "## Symbolic implementation"
   ]
  },
  {
   "cell_type": "code",
   "execution_count": null,
   "metadata": {},
   "outputs": [],
   "source": [
    "# | code-fold: true\n",
    "# | code-summary: Definition of phase space factors\n",
    "@unevaluated(real=False)\n",
    "class PhaseSpaceFactor(sp.Expr):\n",
    "    s: Any\n",
    "    m1: Any\n",
    "    m2: Any\n",
    "    _latex_repr_ = R\"\\rho_{{{m1}, {m2}}}\\left({s}\\right)\"\n",
    "\n",
    "    def evaluate(self) -> sp.Expr:\n",
    "        s, m1, m2 = self.args\n",
    "        return sp.sqrt((s - ((m1 + m2) ** 2)) * (s - (m1 - m2) ** 2) / s**2)\n",
    "\n",
    "\n",
    "@unevaluated(real=False)\n",
    "class PhaseSpaceFactorCM(sp.Expr):\n",
    "    s: Any\n",
    "    m1: Any\n",
    "    m2: Any\n",
    "    _latex_repr_ = R\"\\rho^\\mathrm{{CM}}\\left({s}\\right)\"\n",
    "\n",
    "    def evaluate(self) -> sp.Expr:\n",
    "        s, m1, m2 = self.args\n",
    "        return -16 * sp.pi * sp.I * ChewMandelstam(s, m1, m2)\n",
    "\n",
    "\n",
    "@unevaluated(real=False)\n",
    "class ChewMandelstam(sp.Expr):\n",
    "    s: Any\n",
    "    m1: Any\n",
    "    m2: Any\n",
    "    _latex_repr_ = R\"\\Sigma\\left({s}\\right)\"\n",
    "\n",
    "    def evaluate(self) -> sp.Expr:\n",
    "        s, m1, m2 = self.args\n",
    "        q = BreakupMomentum(s, m1, m2)\n",
    "        return (\n",
    "            1\n",
    "            / (16 * sp.pi**2)\n",
    "            * (\n",
    "                (2 * q / sp.sqrt(s))\n",
    "                * sp.log((m1**2 + m2**2 - s + 2 * sp.sqrt(s) * q) / (2 * m1 * m2))\n",
    "                - (m1**2 - m2**2) * (1 / s - 1 / (m1 + m2) ** 2) * sp.log(m1 / m2)\n",
    "            )\n",
    "        )\n",
    "\n",
    "\n",
    "@unevaluated(real=False)\n",
    "class BreakupMomentum(sp.Expr):\n",
    "    s: Any\n",
    "    m1: Any\n",
    "    m2: Any\n",
    "    _latex_repr_ = R\"q\\left({s}\\right)\"\n",
    "\n",
    "    def evaluate(self) -> sp.Expr:\n",
    "        s, m1, m2 = self.args\n",
    "        return sp.sqrt(Kallen(s, m1**2, m2**2)) / (2 * sp.sqrt(s))"
   ]
  },
  {
   "cell_type": "code",
   "execution_count": null,
   "metadata": {},
   "outputs": [],
   "source": [
    "n = 1\n",
    "K = sp.MatrixSymbol(\"K\", n, n)\n",
    "rho_cm = sp.MatrixSymbol(R\"\\rho^\\mathrm{CM}\", n, n)\n",
    "rho = sp.MatrixSymbol(\"rho\", n, n)\n",
    "I = sp.Identity(n)"
   ]
  },
  {
   "cell_type": "code",
   "execution_count": null,
   "metadata": {},
   "outputs": [],
   "source": [
    "T1 = (I - sp.I * rho_cm * K).inv() * K\n",
    "T1"
   ]
  },
  {
   "cell_type": "code",
   "execution_count": null,
   "metadata": {},
   "outputs": [],
   "source": [
    "T1.as_explicit()"
   ]
  },
  {
   "cell_type": "code",
   "execution_count": null,
   "metadata": {},
   "outputs": [],
   "source": [
    "s, g1, m1, g2, m2 = sp.symbols(\"s g1 m1 g2 m2\")\n",
    "ma, mb = sp.symbols(\"m_a m_b\")"
   ]
  },
  {
   "cell_type": "code",
   "execution_count": null,
   "metadata": {},
   "outputs": [],
   "source": [
    "definitions = {\n",
    "    K[0, 0]: g1**2 / (m1**2 - s) + g2**2 / (m2**2 - s),\n",
    "    rho_cm[0, 0]: PhaseSpaceFactorCM(s, ma, mb),\n",
    "    rho[0, 0]: PhaseSpaceFactor(s, ma, mb),\n",
    "}\n",
    "Math(aslatex({k: v.doit(deep=False) for k, v in definitions.items()}))"
   ]
  },
  {
   "cell_type": "code",
   "execution_count": null,
   "metadata": {},
   "outputs": [],
   "source": [
    "T1_expr = T1.as_explicit().subs(definitions)[0].simplify(doit=False)\n",
    "T1_expr"
   ]
  },
  {
   "cell_type": "code",
   "execution_count": null,
   "metadata": {},
   "outputs": [],
   "source": [
    "T2 = (T1.inv() - 2 * sp.I * rho).inv()\n",
    "T2"
   ]
  },
  {
   "cell_type": "code",
   "execution_count": null,
   "metadata": {},
   "outputs": [],
   "source": [
    "T2_expr = T2.as_explicit().subs(definitions)[0].simplify(doit=False)\n",
    "T2_expr"
   ]
  },
  {
   "cell_type": "code",
   "execution_count": null,
   "metadata": {},
   "outputs": [],
   "source": [
    "parameters = {\n",
    "    m1: 1.8,\n",
    "    m2: 1.1,\n",
    "    g1: 0.5,\n",
    "    g2: 0.7,\n",
    "    ma: 0.1,\n",
    "    mb: 0.2,\n",
    "}"
   ]
  },
  {
   "cell_type": "code",
   "execution_count": null,
   "metadata": {},
   "outputs": [],
   "source": [
    "T1_func = sp.lambdify(s, T1_expr.doit().subs(parameters))\n",
    "T2_func = sp.lambdify(s, T2_expr.doit().subs(parameters))"
   ]
  },
  {
   "cell_type": "code",
   "execution_count": null,
   "metadata": {},
   "outputs": [],
   "source": [
    "# | code-fold: true\n",
    "x = np.linspace(0.1, 6, 500)\n",
    "z = T2_func(x - 1e-8j)\n",
    "plt.plot(x, np.abs(z) ** 2)\n",
    "plt.xlabel(\"s\")\n",
    "plt.ylabel(R\"$|T(s)|^2$\")\n",
    "plt.yticks([])\n",
    "plt.ylim(0, None)\n",
    "plt.show()"
   ]
  },
  {
   "cell_type": "code",
   "execution_count": null,
   "metadata": {},
   "outputs": [],
   "source": [
    "# | code-fold: true\n",
    "X, Y = np.meshgrid(\n",
    "    np.linspace(0, 6, num=500),\n",
    "    np.linspace(1e-8, 2, num=500),\n",
    ")\n",
    "S = X + 1j * Y\n",
    "style = dict(rasterized=True, vmin=-1, vmax=1)\n",
    "plt.pcolormesh(X, +Y, T1_func(S).imag, **style)\n",
    "plt.pcolormesh(X, -Y, T2_func(S.conj()).imag, **style)\n",
    "plt.xlabel(\"Re(s)\")\n",
    "plt.ylabel(\"Im(s)\")\n",
    "plt.colorbar()\n",
    "plt.show()"
   ]
  },
  {
   "cell_type": "code",
   "execution_count": null,
   "metadata": {},
   "outputs": [],
   "source": [
    "numerator, denominator = sp.fraction(T2_expr)\n",
    "denominator"
   ]
  },
  {
   "cell_type": "code",
   "execution_count": null,
   "metadata": {},
   "outputs": [],
   "source": [
    "denom_func = sp.lambdify(s, denominator.doit().subs(parameters))"
   ]
  },
  {
   "cell_type": "code",
   "execution_count": null,
   "metadata": {},
   "outputs": [],
   "source": [
    "# | code-fold: true\n",
    "plt.pcolormesh(X, -Y, np.abs(denom_func(S.conj())), rasterized=True, vmin=0, vmax=3)\n",
    "plt.colorbar()\n",
    "plt.xlabel(\"Re(s)\")\n",
    "plt.ylabel(\"Im(s)\")\n",
    "plt.show()"
   ]
  },
  {
   "cell_type": "code",
   "execution_count": null,
   "metadata": {},
   "outputs": [],
   "source": [
    "s_guess1 = 1.8 - 0.26j\n",
    "s_guess2 = 3.7 - 0.47j"
   ]
  },
  {
   "cell_type": "markdown",
   "metadata": {},
   "source": [
    "## Find pole positions"
   ]
  },
  {
   "cell_type": "code",
   "execution_count": null,
   "metadata": {},
   "outputs": [],
   "source": [
    "def fit_pole(s_guess: complex) -> Minuit:\n",
    "    minuit2 = Minuit(cost_function, s_guess.real, s_guess.imag)\n",
    "    minuit2.tol = 0.001\n",
    "    return minuit2.migrad()\n",
    "\n",
    "\n",
    "def cost_function(s_real: float, s_imag: float):\n",
    "    s = s_real + s_imag * 1j\n",
    "    return np.abs(denom_func(s)) ** 2"
   ]
  },
  {
   "cell_type": "code",
   "execution_count": null,
   "metadata": {},
   "outputs": [],
   "source": [
    "fit_pole1 = fit_pole(s_guess1)\n",
    "pole1 = complex(*fit_pole1.values)\n",
    "pole1"
   ]
  },
  {
   "cell_type": "code",
   "execution_count": null,
   "metadata": {},
   "outputs": [],
   "source": [
    "fit_pole2 = fit_pole(s_guess2)\n",
    "pole2 = complex(*fit_pole2.values)\n",
    "pole2"
   ]
  },
  {
   "cell_type": "code",
   "execution_count": null,
   "metadata": {},
   "outputs": [],
   "source": [
    "# | code-fold: true\n",
    "plt.pcolormesh(X, +Y, T1_func(S).imag, **style)\n",
    "plt.pcolormesh(X, -Y, T2_func(S.conj()).imag, **style)\n",
    "plt.plot(pole1.real, pole1.imag, \"rx\", markersize=10)\n",
    "plt.plot(pole2.real, pole2.imag, \"rx\", markersize=10)\n",
    "plt.xlabel(\"Re(s)\")\n",
    "plt.ylabel(\"Im(s)\")\n",
    "plt.colorbar()\n",
    "plt.show()"
   ]
  },
  {
   "cell_type": "markdown",
   "metadata": {},
   "source": [
    "## Compute residues"
   ]
  },
  {
   "cell_type": "markdown",
   "metadata": {},
   "source": [
    "$$\n",
    "\\begin{align}\n",
    "\\mathrm{Res}(T, z_0)\n",
    "    &= \\frac{1}{2\\pi i} \\oint T(z) \\, dz \\\\\n",
    "    &= \\frac{1}{2\\pi i} \\int_{-\\pi}^{+\\pi} T(z) \\; \\underbrace{i r e^{i\\phi}}_{dz/d\\phi} \\; d\\phi\n",
    "    \\quad \\text{with} \\quad z = z_0 + r e^{i\\phi} \\\\\n",
    "    &= \\frac{r}{2\\pi} \\int_{-\\pi}^{+\\pi} T(z) \\, e^{i\\phi} \\, d\\phi \\\\\n",
    "    &= \\frac{r}{2\\pi} \\left(\\frac{2\\pi}{N}\\sum_{i=1}^N T(z_i) \\, e^{i\\phi_i}\\right) \\\\\n",
    "    &= \\frac{r}{N} \\sum_{i=1}^N T(z_i) \\, e^{i\\phi_i}\n",
    "\\end{align}\n",
    "$$"
   ]
  },
  {
   "cell_type": "code",
   "execution_count": null,
   "metadata": {},
   "outputs": [],
   "source": [
    "def compute_residue(f, z0, radius=1e-3, n_points=1_000):\n",
    "    phi = np.linspace(-np.pi, np.pi, n_points, endpoint=False)\n",
    "    z = z0 + radius * np.exp(1j * phi)\n",
    "    return radius / n_points * np.sum(f(z) * np.exp(1j * phi))"
   ]
  },
  {
   "cell_type": "code",
   "execution_count": null,
   "metadata": {},
   "outputs": [],
   "source": [
    "residue1 = compute_residue(T2_func, pole1)\n",
    "residue1.round(3)"
   ]
  },
  {
   "cell_type": "code",
   "execution_count": null,
   "metadata": {},
   "outputs": [],
   "source": [
    "residue2 = compute_residue(T2_func, pole2)\n",
    "residue2.round(3)"
   ]
  },
  {
   "cell_type": "markdown",
   "metadata": {},
   "source": [
    "Result can be checked with $\\lim\\limits_{z \\to z_0} T(z) = \\frac{\\mathrm{Res}(T, z_0)}{z - z_0}$, for instance by ploting $T(z)$ over $z=z_0+re^{i\\phi}$ with $\\phi \\in [-\\pi, +\\pi]$."
   ]
  },
  {
   "cell_type": "code",
   "execution_count": null,
   "metadata": {},
   "outputs": [],
   "source": [
    "# | code-fold: true\n",
    "phi = np.linspace(-np.pi, np.pi, num=1000)\n",
    "r = 0.1\n",
    "z = pole1 + r * np.exp(1j * phi)\n",
    "plt.plot(phi, T2_func(z).imag, ls=\"--\")\n",
    "plt.plot(phi, (residue1 / (z - pole1)).imag, ls=\"--\")\n",
    "plt.xlabel(R\"$\\phi$\")\n",
    "plt.ylabel(R\"$\\mathrm{Im}\\,T(z)$\")\n",
    "plt.show()"
   ]
  }
 ],
 "metadata": {
  "kernelspec": {
   "display_name": "Python 3 (ipykernel)",
   "language": "python",
   "name": "python3"
  },
  "language_info": {
   "codemirror_mode": {
    "name": "ipython",
    "version": 3
   },
   "file_extension": ".py",
   "mimetype": "text/x-python",
   "name": "python",
   "nbconvert_exporter": "python",
   "pygments_lexer": "ipython3",
   "version": "3.12.8"
  }
 },
 "nbformat": 4,
 "nbformat_minor": 4
}
