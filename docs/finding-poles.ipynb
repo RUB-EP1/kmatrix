{
 "cells": [
  {
   "cell_type": "markdown",
   "metadata": {},
   "source": [
    "---\n",
    "draft: true\n",
    "title: Finding pole positions\n",
    "---"
   ]
  },
  {
   "cell_type": "code",
   "execution_count": null,
   "metadata": {},
   "outputs": [],
   "source": [
    "# | code-fold: true\n",
    "# | code-summary: Import Python libraries\n",
    "from __future__ import annotations\n",
    "\n",
    "from typing import Any\n",
    "\n",
    "import matplotlib.pyplot as plt\n",
    "import numpy as np\n",
    "import sympy as sp\n",
    "from ampform.io import aslatex\n",
    "from ampform.kinematics.phasespace import Kallen\n",
    "from ampform.sympy import unevaluated\n",
    "from IPython.display import Math"
   ]
  },
  {
   "cell_type": "markdown",
   "metadata": {},
   "source": [
    "## Theory"
   ]
  },
  {
   "cell_type": "markdown",
   "metadata": {},
   "source": [
    "Define $T$ matrix via $K$-matrix:\n",
    "$$T(s) = \\left(\\mathbb{I} + i K(s) {\\rho_{cm}(s)}\\right)^{-1} K(s)$$\n",
    "For one channel and multiple resonances this gives:\\\n",
    "$$\\sum_\\mathrm{Res.}\\frac{{K(s)}}{i {K(s)} {{\\rho_{cm}(s)}} + 1}$$\n",
    "\n",
    "A resonance pole in the complex $s$ plane occurs when the denominator of $T(s)$ goes to zero:\n",
    "$$|T(s)| \\rightarrow \\infty \\quad \\Rightarrow \\quad \\left| \\frac{1}{1 - i K(s)} \\right|^2 \\rightarrow \\infty$$\n",
    "\n",
    "Finding the poles is equivalent to minimizing:\n",
    "\n",
    "$$\\left|1 - i K(s)\\right|^2 \\rightarrow 0$$\n",
    "\n",
    "to solve the problem numerically one can separate real and complex part of $s$ to construct a cost function which can be given to common minimizer: Minuit2\n",
    "Cost function:\n",
    "$$\\text{Cost}(x, y) = \\left|1 - i K(x + i y)\\right|^2$$\n",
    "using where $x$ and $y$ are minimization parameters."
   ]
  },
  {
   "cell_type": "markdown",
   "metadata": {},
   "source": [
    "## Symbolic implementation"
   ]
  },
  {
   "cell_type": "code",
   "execution_count": null,
   "metadata": {},
   "outputs": [],
   "source": [
    "# @title\n",
    "@unevaluated(real=False)\n",
    "class PhaseSpaceFactor(sp.Expr):\n",
    "    s: Any\n",
    "    m1: Any\n",
    "    m2: Any\n",
    "    _latex_repr_ = R\"\\rho_{{{m1}, {m2}}}\\left({s}\\right)\"\n",
    "\n",
    "    def evaluate(self) -> sp.Expr:\n",
    "        s, m1, m2 = self.args\n",
    "        return sp.sqrt((s - ((m1 + m2) ** 2)) * (s - (m1 - m2) ** 2) / s**2)\n",
    "\n",
    "\n",
    "@unevaluated(real=False)\n",
    "class PhaseSpaceFactorCM(sp.Expr):\n",
    "    s: Any\n",
    "    m1: Any\n",
    "    m2: Any\n",
    "    _latex_repr_ = R\"\\rho^\\mathrm{{CM}}\\left({s}\\right)\"\n",
    "\n",
    "    def evaluate(self) -> sp.Expr:\n",
    "        s, m1, m2 = self.args\n",
    "        return -16 * sp.pi * sp.I * ChewMandelstam(s, m1, m2)\n",
    "\n",
    "\n",
    "@unevaluated(real=False)\n",
    "class ChewMandelstam(sp.Expr):\n",
    "    s: Any\n",
    "    m1: Any\n",
    "    m2: Any\n",
    "    _latex_repr_ = R\"\\Sigma\\left({s}\\right)\"\n",
    "\n",
    "    def evaluate(self) -> sp.Expr:\n",
    "        s, m1, m2 = self.args\n",
    "        q = BreakupMomentum(s, m1, m2)\n",
    "        return (\n",
    "            1\n",
    "            / (16 * sp.pi**2)\n",
    "            * (\n",
    "                (2 * q / sp.sqrt(s))\n",
    "                * sp.log((m1**2 + m2**2 - s + 2 * sp.sqrt(s) * q) / (2 * m1 * m2))\n",
    "                - (m1**2 - m2**2) * (1 / s - 1 / (m1 + m2) ** 2) * sp.log(m1 / m2)\n",
    "            )\n",
    "        )\n",
    "\n",
    "\n",
    "@unevaluated(real=False)\n",
    "class BreakupMomentum(sp.Expr):\n",
    "    s: Any\n",
    "    m1: Any\n",
    "    m2: Any\n",
    "    _latex_repr_ = R\"q\\left({s}\\right)\"\n",
    "\n",
    "    def evaluate(self) -> sp.Expr:\n",
    "        s, m1, m2 = self.args\n",
    "        return sp.sqrt(Kallen(s, m1**2, m2**2)) / (2 * sp.sqrt(s))"
   ]
  },
  {
   "cell_type": "code",
   "execution_count": null,
   "metadata": {},
   "outputs": [],
   "source": [
    "s = sp.symbols(\"s\")\n",
    "ma, mb = sp.symbols(\"ma mb\")"
   ]
  },
  {
   "cell_type": "code",
   "execution_count": null,
   "metadata": {},
   "outputs": [],
   "source": [
    "parameters = {\n",
    "    \"ma\": 0.2,\n",
    "    \"mb\": 0.3,\n",
    "}"
   ]
  },
  {
   "cell_type": "code",
   "execution_count": null,
   "metadata": {},
   "outputs": [],
   "source": [
    "rho_func = sp.lambdify(s, PhaseSpaceFactor(s, ma, mb).doit().subs(parameters))\n",
    "rho_cm_func = sp.lambdify(s, PhaseSpaceFactorCM(s, ma, mb).doit().subs(parameters))"
   ]
  },
  {
   "cell_type": "code",
   "execution_count": null,
   "metadata": {},
   "outputs": [],
   "source": [
    "x = np.linspace(0, 1, 100)\n",
    "epsilon = 1e-10j\n",
    "plt.plot(\n",
    "    x,\n",
    "    rho_func(x + epsilon).real,\n",
    "    color=\"blue\",\n",
    "    label=r\"$\\rho(s) real$\",\n",
    "    alpha=0.5,\n",
    ")\n",
    "plt.plot(\n",
    "    x,\n",
    "    rho_cm_func(x + epsilon).real,\n",
    "    color=\"red\",\n",
    "    label=r\"$\\rho^{CM}(s) real$\",\n",
    "    alpha=0.5,\n",
    ")\n",
    "plt.plot(\n",
    "    x,\n",
    "    rho_func(x + epsilon).imag,\n",
    "    color=\"blue\",\n",
    "    linestyle=\"--\",\n",
    "    label=r\"$\\rho(s) imag$\",\n",
    ")\n",
    "plt.plot(\n",
    "    x,\n",
    "    rho_cm_func(x + epsilon).imag,\n",
    "    color=\"red\",\n",
    "    linestyle=\"--\",\n",
    "    label=r\"$\\rho^{CM}(s) imag$\",\n",
    ")\n",
    "plt.ylim(0, 2)\n",
    "plt.legend()\n",
    "plt.show()"
   ]
  },
  {
   "cell_type": "code",
   "execution_count": null,
   "metadata": {},
   "outputs": [],
   "source": [
    "n = 1\n",
    "K = sp.MatrixSymbol(\"K\", n, n)\n",
    "rho_cm = sp.MatrixSymbol(\"rho_CM\", n, n)\n",
    "rho = sp.MatrixSymbol(\"rho\", n, n)\n",
    "I = sp.Identity(n)"
   ]
  },
  {
   "cell_type": "code",
   "execution_count": null,
   "metadata": {},
   "outputs": [],
   "source": [
    "T1 = (I - sp.I * rho_cm * K).inv() * K\n",
    "T1"
   ]
  },
  {
   "cell_type": "code",
   "execution_count": null,
   "metadata": {},
   "outputs": [],
   "source": [
    "T1.as_explicit()"
   ]
  },
  {
   "cell_type": "code",
   "execution_count": null,
   "metadata": {},
   "outputs": [],
   "source": [
    "s, g1, m1, g2, m2 = sp.symbols(\"s g1 m1 g2 m2\")\n",
    "ma, mb = sp.symbols(\"ma mb\")"
   ]
  },
  {
   "cell_type": "code",
   "execution_count": null,
   "metadata": {},
   "outputs": [],
   "source": [
    "substitutions = {\n",
    "    K[0, 0]: g1**2 / (m1**2 - s) + g2**2 / (m2**2 - s),\n",
    "    rho_cm[0, 0]: PhaseSpaceFactorCM(s, ma, mb),\n",
    "    rho[0, 0]: PhaseSpaceFactor(s, ma, mb),\n",
    "}\n",
    "Math(aslatex(substitutions))"
   ]
  },
  {
   "cell_type": "code",
   "execution_count": null,
   "metadata": {},
   "outputs": [],
   "source": [
    "T1_expr = T1.as_explicit().subs(substitutions)[0].simplify(doit=False)\n",
    "T1_expr"
   ]
  },
  {
   "cell_type": "code",
   "execution_count": null,
   "metadata": {},
   "outputs": [],
   "source": [
    "T2 = (T1.inv() - 2 * sp.I * rho).inv()\n",
    "T2"
   ]
  },
  {
   "cell_type": "code",
   "execution_count": null,
   "metadata": {},
   "outputs": [],
   "source": [
    "T2_expr = T2.as_explicit().subs(substitutions)[0].simplify(doit=False)\n",
    "T2_expr"
   ]
  },
  {
   "cell_type": "code",
   "execution_count": null,
   "metadata": {},
   "outputs": [],
   "source": [
    "parameters = {\n",
    "    \"m1\": 1.8,\n",
    "    \"m2\": 1.1,\n",
    "    \"g1\": 0.5,\n",
    "    \"g2\": 0.7,\n",
    "    \"ma\": 0.1,\n",
    "    \"mb\": 0.2,\n",
    "}"
   ]
  },
  {
   "cell_type": "code",
   "execution_count": null,
   "metadata": {},
   "outputs": [],
   "source": [
    "T1_func = sp.lambdify(s, T1_expr.doit().subs(parameters))\n",
    "T2_func = sp.lambdify(s, T2_expr.doit().subs(parameters))"
   ]
  },
  {
   "cell_type": "code",
   "execution_count": null,
   "metadata": {},
   "outputs": [],
   "source": [
    "x = np.linspace(0, 5, 500)\n",
    "y = T2_func(x + 1e-8j)\n",
    "plt.plot(x, y.real, label=\"real\")\n",
    "plt.show()"
   ]
  },
  {
   "cell_type": "code",
   "execution_count": null,
   "metadata": {},
   "outputs": [],
   "source": [
    "X, Y = np.meshgrid(\n",
    "    np.linspace(0, 6, num=100),\n",
    "    np.linspace(1e-8, 2, num=100),\n",
    ")\n",
    "S = X + 1j * Y\n",
    "mesh = plt.pcolormesh(X, +Y, T1_func(S).imag, vmin=-1, vmax=1)\n",
    "mesh = plt.pcolormesh(X, -Y, T2_func(S.conj()).imag, vmin=-1, vmax=1)\n",
    "plt.xlabel(\"Re(s)\")\n",
    "plt.ylabel(\"Im(s)\")\n",
    "plt.colorbar(mesh)\n",
    "plt.show()"
   ]
  },
  {
   "cell_type": "code",
   "execution_count": null,
   "metadata": {},
   "outputs": [],
   "source": [
    "numerator, denominator = sp.fraction(T2_expr)\n",
    "denominator"
   ]
  },
  {
   "cell_type": "code",
   "execution_count": null,
   "metadata": {},
   "outputs": [],
   "source": [
    "denominator_expr = denominator.doit()"
   ]
  },
  {
   "cell_type": "code",
   "execution_count": null,
   "metadata": {},
   "outputs": [],
   "source": [
    "denominator_func = sp.lambdify(s, denominator_expr.subs(parameters))"
   ]
  },
  {
   "cell_type": "code",
   "execution_count": null,
   "metadata": {},
   "outputs": [],
   "source": [
    "Z = np.abs(denominator_func(S.conj()))\n",
    "mesh = plt.pcolormesh(X, -Y, Z, vmin=0, vmax=3)\n",
    "plt.colorbar()"
   ]
  },
  {
   "cell_type": "code",
   "execution_count": null,
   "metadata": {},
   "outputs": [],
   "source": [
    "S.flatten()[Z.flatten() < 0.1]  # noqa: PLR2004"
   ]
  },
  {
   "cell_type": "markdown",
   "metadata": {},
   "source": [
    "## Find pole positions via Minuit2 fit"
   ]
  }
 ],
 "metadata": {
  "kernelspec": {
   "display_name": "Python 3 (ipykernel)",
   "language": "python",
   "name": "python3"
  },
  "language_info": {
   "codemirror_mode": {
    "name": "ipython",
    "version": 3
   },
   "file_extension": ".py",
   "mimetype": "text/x-python",
   "name": "python",
   "nbconvert_exporter": "python",
   "pygments_lexer": "ipython3",
   "version": "3.12.8"
  }
 },
 "nbformat": 4,
 "nbformat_minor": 4
}
