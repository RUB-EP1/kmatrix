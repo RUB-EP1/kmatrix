{
 "cells": [
  {
   "cell_type": "markdown",
   "metadata": {},
   "source": [
    "---\n",
    "format:\n",
    "  html:\n",
    "    code-links:\n",
    "      - href: lite/lab/index.html?path=finding-poles.ipynb\n",
    "        icon: play\n",
    "        text: Run code\n",
    "---"
   ]
  },
  {
   "cell_type": "markdown",
   "metadata": {},
   "source": [
    "# Finding pole positions"
   ]
  },
  {
   "cell_type": "markdown",
   "metadata": {},
   "source": [
    ":::{.callout-tip}\n",
    "## Task\n",
    "\n",
    "We have been gifted a $K$-matrix parameterization for two resonances within one channel, because it is International $K$-Matrix Day. The parameter values are:\n",
    "\n",
    "- Masses of final state particles: $m_a=0.1\\,\\mathrm{GeV}$ and $m_b=0.2\\,\\mathrm{GeV}$\n",
    "- Bare masses of the resonances: $m_1=1.8\\,\\mathrm{GeV}$ and $m_2=1.1\\,\\mathrm{GeV}$\n",
    "- Couplings: $g=0.5\\,\\mathrm{GeV}$ and $g=0.7\\,\\mathrm{GeV}$\n",
    ":::\n",
    "\n",
    ":::{.callout-caution}\n",
    "## Goal\n",
    "\n",
    "Find **pole positions** and the **residues** of the two resonances with the given parameter values.\n",
    ":::"
   ]
  },
  {
   "cell_type": "code",
   "execution_count": null,
   "metadata": {},
   "outputs": [],
   "source": [
    "# | echo: false\n",
    "# | output: false\n",
    "%config InlineBackend.figure_format = 'svg'\n",
    "%pip install ampform~=0.15.0"
   ]
  },
  {
   "cell_type": "code",
   "execution_count": null,
   "metadata": {
    "jupyter": {
     "source_hidden": true
    }
   },
   "outputs": [],
   "source": [
    "# | code-fold: true\n",
    "# | code-summary: Import Python libraries\n",
    "from typing import Any\n",
    "\n",
    "import matplotlib.pyplot as plt\n",
    "import numpy as np\n",
    "import sympy as sp\n",
    "from ampform.io import aslatex\n",
    "from ampform.kinematics.phasespace import Kallen\n",
    "from ampform.sympy import unevaluated\n",
    "from IPython.display import Math"
   ]
  },
  {
   "cell_type": "markdown",
   "metadata": {},
   "source": [
    "## Phase space factors"
   ]
  },
  {
   "cell_type": "markdown",
   "metadata": {},
   "source": [
    "We define the phase space factor $\\rho^\\mathrm{CM}(s)$ using the Chew–Mandelstam function $\\Sigma(s)$ for $S$&nbsp;waves ($L=0$). For the discontinuity between the sheets, we use the 'standard' phase space factor $\\rho(s)$."
   ]
  },
  {
   "cell_type": "code",
   "execution_count": null,
   "metadata": {
    "jupyter": {
     "source_hidden": true
    }
   },
   "outputs": [],
   "source": [
    "# | code-fold: true\n",
    "# | code-summary: Definition of phase space factors\n",
    "@unevaluated(real=False)\n",
    "class PhaseSpaceFactor(sp.Expr):\n",
    "    s: Any\n",
    "    m1: Any\n",
    "    m2: Any\n",
    "    phi: Any = -np.pi / 2\n",
    "    _latex_repr_ = R\"\\rho\\left({s}\\right)\"\n",
    "\n",
    "    def evaluate(self) -> sp.Expr:\n",
    "        s, m1, m2, phi = self.args\n",
    "\n",
    "        term1 = sp.sqrt(sp.exp(sp.I * phi) * (sp.sqrt(s) - (m1 + m2)))\n",
    "        term2 = sp.exp(-sp.I * phi / 2)\n",
    "        term3 = sp.sqrt(sp.sqrt(s) + (m1 + m2))\n",
    "        term4 = sp.sqrt(s - (m1 - m2) ** 2)\n",
    "\n",
    "        return term1 * term2 * term3 * term4 / s\n",
    "\n",
    "\n",
    "@unevaluated(real=False)\n",
    "class PhaseSpaceFactorCM(sp.Expr):\n",
    "    s: Any\n",
    "    m1: Any\n",
    "    m2: Any\n",
    "    _latex_repr_ = R\"\\rho^\\mathrm{{CM}}\\left({s}\\right)\"\n",
    "\n",
    "    def evaluate(self) -> sp.Expr:\n",
    "        s, m1, m2 = self.args\n",
    "        return -16 * sp.pi * sp.I * ChewMandelstam(s, m1, m2)\n",
    "\n",
    "\n",
    "@unevaluated(real=False)\n",
    "class ChewMandelstam(sp.Expr):\n",
    "    s: Any\n",
    "    m1: Any\n",
    "    m2: Any\n",
    "    _latex_repr_ = R\"\\Sigma\\left({s}\\right)\"\n",
    "\n",
    "    def evaluate(self) -> sp.Expr:\n",
    "        s, m1, m2 = self.args\n",
    "        q = BreakupMomentum(s, m1, m2)\n",
    "        return (\n",
    "            1\n",
    "            / (16 * sp.pi**2)\n",
    "            * (\n",
    "                (2 * q / sp.sqrt(s))\n",
    "                * sp.log((m1**2 + m2**2 - s + 2 * sp.sqrt(s) * q) / (2 * m1 * m2))\n",
    "                - (m1**2 - m2**2) * (1 / s - 1 / (m1 + m2) ** 2) * sp.log(m1 / m2)\n",
    "            )\n",
    "        )\n",
    "\n",
    "\n",
    "@unevaluated(real=False)\n",
    "class BreakupMomentum(sp.Expr):\n",
    "    s: Any\n",
    "    m1: Any\n",
    "    m2: Any\n",
    "    _latex_repr_ = R\"q\\left({s}\\right)\"\n",
    "\n",
    "    def evaluate(self) -> sp.Expr:\n",
    "        s, m1, m2 = self.args\n",
    "        return sp.sqrt(Kallen(s, m1**2, m2**2)) / (2 * sp.sqrt(s))\n",
    "\n",
    "\n",
    "args = sp.symbols(\"s m_a m_b\")\n",
    "exprs = [\n",
    "    PhaseSpaceFactor(*args),\n",
    "    PhaseSpaceFactorCM(*args),\n",
    "    ChewMandelstam(*args),\n",
    "    BreakupMomentum(*args),\n",
    "]\n",
    "Math(aslatex({expr: expr.doit(deep=False) for expr in exprs}))"
   ]
  },
  {
   "cell_type": "markdown",
   "metadata": {},
   "source": [
    "Compare [PDG 2024, Figure 50.6](https://pdg.lbl.gov/2024/reviews/rpp2024-rev-resonances.pdf#page=15):"
   ]
  },
  {
   "cell_type": "code",
   "execution_count": null,
   "metadata": {
    "jupyter": {
     "source_hidden": true
    }
   },
   "outputs": [],
   "source": [
    "# | code-fold: true\n",
    "rho_func = sp.lambdify(args, PhaseSpaceFactor(*args).doit())\n",
    "rho_cm_func = sp.lambdify(args, PhaseSpaceFactorCM(*args).doit())\n",
    "x = np.linspace(-0.0, 1.3, num=500)\n",
    "epsilon = 1e-8j\n",
    "threshold = dict(m_a=0.13, m_b=0.5)\n",
    "z_rho = 1j * rho_func(x + epsilon, **threshold)\n",
    "z_rho_cm = 1j * rho_cm_func(x + epsilon, **threshold)\n",
    "\n",
    "fig, axes = plt.subplots(figsize=(9, 4), ncols=2, sharey=True)\n",
    "ax1, ax2 = axes\n",
    "ax1.plot(x, z_rho.real, c=\"black\", label=\"Real part\", ls=\"--\")\n",
    "ax1.plot(x, z_rho.imag, c=\"red\", label=\"Imag part\")\n",
    "ax2.plot(x, z_rho_cm.real, c=\"black\", label=\"Real part\", ls=\"--\")\n",
    "ax2.plot(x, z_rho_cm.imag, c=\"red\", label=\"Imag part\")\n",
    "ax1.set_title(R\"$i\\rho(s)$\")\n",
    "ax2.set_title(R\"$i\\rho^{CM}(s)$\")\n",
    "s_thr = sum(threshold.values()) ** 2\n",
    "for ax in axes:\n",
    "    ax.axhline(0, alpha=0.5, c=\"black\", lw=0.3)\n",
    "    ax.axvline(s_thr, c=\"black\", lw=0.5)\n",
    "    ax.legend(loc=\"lower right\")\n",
    "    ax.set_xlabel(R\"$s+i\\epsilon$ [GeV$^2$]\")\n",
    "    ax.set_ylim(-1, +1)\n",
    "fig.tight_layout()\n",
    "plt.show(fig)"
   ]
  },
  {
   "cell_type": "markdown",
   "metadata": {},
   "source": [
    "## Formulate $T$-matrix"
   ]
  },
  {
   "cell_type": "markdown",
   "metadata": {},
   "source": [
    "Construction of the two sheets of the $T$ matrix using a **single-channel** $K$ matrix:\n",
    "\n"
   ]
  },
  {
   "cell_type": "markdown",
   "metadata": {},
   "source": [
    "Definition of the second Riemann sheet via the discontinuity of the phasespace factor across the branch cut:\n",
    "$$ \n",
    "\\mathrm{Disc}_\\mathrm{I-II}(s) = -2i\\rho(s)\n",
    "$$\n",
    "$$\n",
    "\\rho(s) = \\sqrt{\\frac{\\left(s-(m_a-m_b)^2\\right)\\left(s-(m_a+m_b)^2\\right)}{s^2}}\n",
    "$$"
   ]
  },
  {
   "cell_type": "markdown",
   "metadata": {},
   "source": [
    "We now parametrize the $K$ matrix with **two poles** and define the standard phase space factor (used for the discrepancy between the sheets), as well as a phase space factor that is defined with the Chew–Mandelstam function:"
   ]
  },
  {
   "cell_type": "markdown",
   "metadata": {},
   "source": [
    "Definition of the I. sheet:  "
   ]
  },
  {
   "cell_type": "markdown",
   "metadata": {},
   "source": [
    "Definition of the II. sheet: "
   ]
  },
  {
   "cell_type": "markdown",
   "metadata": {},
   "source": [
    "For plotting the $T$ matrix, we need to define some parameter values."
   ]
  },
  {
   "cell_type": "markdown",
   "metadata": {},
   "source": [
    "Just below the real axis (below the cut), the square value of the unphysical sheet, $T_\\mathrm{II}(s-\\epsilon i)$, looks like this:"
   ]
  },
  {
   "cell_type": "markdown",
   "metadata": {},
   "source": [
    "The two sheets are nicely connected along the real axis and two poles are located below the cut."
   ]
  },
  {
   "cell_type": "markdown",
   "metadata": {},
   "source": [
    "## Find pole positions"
   ]
  },
  {
   "cell_type": "markdown",
   "metadata": {},
   "source": [
    "The pole positions are at the point where the denominator of the unphysical sheet $T_\\mathrm{II}$ goes to zero."
   ]
  },
  {
   "cell_type": "markdown",
   "metadata": {},
   "source": [
    "We can find these points by minimizing the absolute value of the denominator of $T_\\mathrm{II}$ using gradient-descent."
   ]
  },
  {
   "cell_type": "markdown",
   "metadata": {},
   "source": [
    "Plot pole positions:"
   ]
  },
  {
   "cell_type": "markdown",
   "metadata": {},
   "source": [
    "## Compute residues"
   ]
  },
  {
   "cell_type": "markdown",
   "metadata": {},
   "source": [
    "Residues can be computed with a closed integral around the pole. Numerically, we can compute this by evaluating $T_\\mathrm{II}$ at $N$ points around the pole and using the trapezoidal rule. It can be simplified to:\n",
    "$$\n",
    "\\begin{align}\n",
    "\\mathrm{Res}(T, z_0)\n",
    "    &= \\frac{1}{2\\pi i} \\oint T(z) \\, dz \\\\\n",
    "    &= \\frac{1}{2\\pi i} \\int_{-\\pi}^{+\\pi} T(z) \\; \\underbrace{i r e^{i\\phi}}_{dz/d\\phi} \\; d\\phi\n",
    "    \\quad \\text{with} \\quad z = z_0 + r e^{i\\phi} \\\\\n",
    "    &= \\frac{r}{2\\pi} \\int_{-\\pi}^{+\\pi} T(z) \\, e^{i\\phi} \\, d\\phi \\\\\n",
    "    &= \\frac{r}{2\\pi} \\left(\\frac{2\\pi}{N}\\sum_{i=1}^N T(z_i) \\, e^{i\\phi_i}\\right) \\\\\n",
    "    &= \\frac{r}{N} \\sum_{i=1}^N T(z_i) \\, e^{i\\phi_i} \\,.\n",
    "\\end{align}\n",
    "$$"
   ]
  },
  {
   "cell_type": "markdown",
   "metadata": {},
   "source": [
    "Define residue computation:"
   ]
  },
  {
   "cell_type": "markdown",
   "metadata": {},
   "source": [
    "## Compare with Breit–Wigner"
   ]
  },
  {
   "cell_type": "markdown",
   "metadata": {},
   "source": [
    "The residue approximates the coupling of the poles as if they were to be considered as a single pole in a Breit–Wigner parameterization.\n",
    "\n",
    "$$\n",
    "T\\approx \\frac{-\\mathrm{Res}}{s_\\mathrm{pole}-s} \\Rightarrow g_\\mathrm{pole} \\approx \\sqrt{\\mathrm{Res}}\n",
    "$$ "
   ]
  },
  {
   "cell_type": "markdown",
   "metadata": {},
   "source": [
    "Define Breit–Wigner function for the poles:"
   ]
  },
  {
   "cell_type": "markdown",
   "metadata": {},
   "source": [
    "Plot line shape of the pole Breit–Wigner functions and the $T$ function:"
   ]
  }
 ],
 "metadata": {
  "kernelspec": {
   "display_name": "Python 3 (ipykernel)",
   "language": "python",
   "name": "python3"
  },
  "language_info": {
   "codemirror_mode": {
    "name": "ipython",
    "version": 3
   },
   "file_extension": ".py",
   "mimetype": "text/x-python",
   "name": "python",
   "nbconvert_exporter": "python",
   "pygments_lexer": "ipython3",
   "version": "3.12.10"
  }
 },
 "nbformat": 4,
 "nbformat_minor": 4
}
